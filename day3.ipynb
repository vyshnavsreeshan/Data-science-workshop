{
  "nbformat": 4,
  "nbformat_minor": 0,
  "metadata": {
    "colab": {
      "name": "day3ipynb",
      "provenance": [],
      "collapsed_sections": []
    },
    "kernelspec": {
      "name": "python3",
      "display_name": "Python 3"
    }
  },
  "cells": [
    {
      "cell_type": "code",
      "metadata": {
        "id": "DnyaBCq9xfld"
      },
      "source": [
        "mark = int(input(\"Enter mark: \"))\n",
        "\n",
        "if mark > 90 : \n",
        "  print(\"Grade is A\")\n",
        "\n",
        "elif mark > 80 : \n",
        "  print(\"Grade is B\")\n",
        "\n",
        "elif mark > 70 :\n",
        "  print(\"Grade is C\")\n",
        "elif mark > 50 : \n",
        "  print(\"Grade is D\")  \n",
        "else :\n",
        "  print(\"Failed!\") "
      ],
      "execution_count": null,
      "outputs": []
    },
    {
      "cell_type": "code",
      "metadata": {
        "id": "KTImh9JY1ZeV"
      },
      "source": [
        "username = 'vyshnav'\n",
        "password = '1234'\n",
        "otp = '0912'\n",
        "name=input(\"Enter username: \")\n",
        "userpassword = input(\"Enter the password: \")\n",
        "userOtp=input(\"Enter one time password: \")\n",
        "if name == username :\n",
        "  if userpassword == password : \n",
        "    if userOtp == otp : \n",
        "      print(\"Welcome\", username)\n",
        "    else  :\n",
        "      print(\"incorrect otp\")  \n",
        "  else :\n",
        "    print(\"Incorrect password\")    \n",
        "else :\n",
        "  print(\"This user is not in our database\")"
      ],
      "execution_count": null,
      "outputs": []
    },
    {
      "cell_type": "code",
      "metadata": {
        "colab": {
          "base_uri": "https://localhost:8080/"
        },
        "id": "fTP8csLJ1daU",
        "outputId": "36d5a40b-b5cf-4327-81ea-20844c186871"
      },
      "source": [
        "studentMarks = {\n",
        "    \"ravi\" : 95,\n",
        "    \"raju\" : 43,\n",
        "    \"jane\" : 78,\n",
        "    \"pooja\" : 57,\n",
        "    \"rahu\" : 83\n",
        "}\n",
        "for marks in studentMarks :\n",
        "  if studentMarks[marks] < 60 : \n",
        "    print(studentMarks[marks])\n",
        "  "
      ],
      "execution_count": null,
      "outputs": [
        {
          "output_type": "stream",
          "text": [
            "43\n",
            "57\n"
          ],
          "name": "stdout"
        }
      ]
    },
    {
      "cell_type": "code",
      "metadata": {
        "id": "nxWXYHRM1dP0"
      },
      "source": [
        ""
      ],
      "execution_count": null,
      "outputs": []
    }
  ]
}